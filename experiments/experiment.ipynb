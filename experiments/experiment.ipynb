{
 "cells": [
  {
   "cell_type": "markdown",
   "metadata": {},
   "source": [
    "## The effect of histogram equalization on the success of the model"
   ]
  },
  {
   "cell_type": "markdown",
   "metadata": {},
   "source": [
    "## This notebook includes a comparison of the results of images trained with and without histogram equalization."
   ]
  },
  {
   "cell_type": "markdown",
   "metadata": {},
   "source": [
    "#### Import Libraries and Dataset"
   ]
  },
  {
   "cell_type": "code",
   "execution_count": 1,
   "metadata": {},
   "outputs": [
    {
     "name": "stdout",
     "output_type": "stream",
     "text": [
      "Found 3681 images belonging to 2 classes.\n",
      "Found 919 images belonging to 2 classes.\n",
      "Found 3681 images belonging to 2 classes.\n",
      "Found 919 images belonging to 2 classes.\n"
     ]
    }
   ],
   "source": [
    "import os\n",
    "os.chdir(r\"C:\\Users\\arda\\Desktop\\My All Projects\\brain_tumor_classification\")\n",
    "\n",
    "from src.data_loading import load_data\n",
    "from src.model import create_basic_cnn1,create_basic_cnn2,create_resnet_model,create_mobilenetv2_model,create_densenet_model\n",
    "from src.visualization import plot_training_history\n",
    "from tensorflow.keras.models import load_model\n",
    "import json\n",
    "from tensorflow.keras.callbacks import EarlyStopping\n",
    "\n",
    "data_dir_raw = r\"C:\\Users\\arda\\Desktop\\My All Projects\\brain_tumor_classification\\data\\raw\\Brain Tumor Data Set\"\n",
    "\n",
    "train_data, validation_data = load_data(data_dir_raw)\n",
    "\n",
    "data_dir_processed = r\"C:\\Users\\arda\\Desktop\\My All Projects\\brain_tumor_classification\\data\\processed\"\n",
    "\n",
    "train_data_equalized, validation_data_equalized = load_data(data_dir_processed)"
   ]
  },
  {
   "cell_type": "markdown",
   "metadata": {},
   "source": [
    "### 1. First CNN"
   ]
  },
  {
   "cell_type": "markdown",
   "metadata": {},
   "source": [
    "#### A) Before Equalized"
   ]
  },
  {
   "cell_type": "code",
   "execution_count": null,
   "metadata": {},
   "outputs": [
    {
     "name": "stderr",
     "output_type": "stream",
     "text": [
      "c:\\Users\\arda\\AppData\\Local\\Programs\\Python\\Python312\\Lib\\site-packages\\keras\\src\\layers\\convolutional\\base_conv.py:107: UserWarning: Do not pass an `input_shape`/`input_dim` argument to a layer. When using Sequential models, prefer using an `Input(shape)` object as the first layer in the model instead.\n",
      "  super().__init__(activity_regularizer=activity_regularizer, **kwargs)\n"
     ]
    },
    {
     "name": "stdout",
     "output_type": "stream",
     "text": [
      "Epoch 1/20\n"
     ]
    },
    {
     "name": "stderr",
     "output_type": "stream",
     "text": [
      "c:\\Users\\arda\\AppData\\Local\\Programs\\Python\\Python312\\Lib\\site-packages\\keras\\src\\trainers\\data_adapters\\py_dataset_adapter.py:121: UserWarning: Your `PyDataset` class should call `super().__init__(**kwargs)` in its constructor. `**kwargs` can include `workers`, `use_multiprocessing`, `max_queue_size`. Do not pass these arguments to `fit()`, as they will be ignored.\n",
      "  self._warn_if_super_not_called()\n"
     ]
    },
    {
     "name": "stdout",
     "output_type": "stream",
     "text": [
      "\u001b[1m116/116\u001b[0m \u001b[32m━━━━━━━━━━━━━━━━━━━━\u001b[0m\u001b[37m\u001b[0m \u001b[1m34s\u001b[0m 271ms/step - accuracy: 0.5705 - loss: 0.7242 - val_accuracy: 0.4929 - val_loss: 0.8772\n",
      "Epoch 2/20\n",
      "\u001b[1m116/116\u001b[0m \u001b[32m━━━━━━━━━━━━━━━━━━━━\u001b[0m\u001b[37m\u001b[0m \u001b[1m27s\u001b[0m 229ms/step - accuracy: 0.7170 - loss: 0.5667 - val_accuracy: 0.8020 - val_loss: 0.4607\n",
      "Epoch 3/20\n",
      "\u001b[1m116/116\u001b[0m \u001b[32m━━━━━━━━━━━━━━━━━━━━\u001b[0m\u001b[37m\u001b[0m \u001b[1m26s\u001b[0m 215ms/step - accuracy: 0.8149 - loss: 0.4278 - val_accuracy: 0.8030 - val_loss: 0.4384\n",
      "Epoch 4/20\n",
      "\u001b[1m116/116\u001b[0m \u001b[32m━━━━━━━━━━━━━━━━━━━━\u001b[0m\u001b[37m\u001b[0m \u001b[1m25s\u001b[0m 212ms/step - accuracy: 0.8358 - loss: 0.3807 - val_accuracy: 0.8161 - val_loss: 0.3869\n",
      "Epoch 5/20\n",
      "\u001b[1m116/116\u001b[0m \u001b[32m━━━━━━━━━━━━━━━━━━━━\u001b[0m\u001b[37m\u001b[0m \u001b[1m25s\u001b[0m 211ms/step - accuracy: 0.8585 - loss: 0.3424 - val_accuracy: 0.8531 - val_loss: 0.3487\n",
      "Epoch 6/20\n",
      "\u001b[1m116/116\u001b[0m \u001b[32m━━━━━━━━━━━━━━━━━━━━\u001b[0m\u001b[37m\u001b[0m \u001b[1m25s\u001b[0m 211ms/step - accuracy: 0.8648 - loss: 0.3203 - val_accuracy: 0.8400 - val_loss: 0.3692\n",
      "Epoch 7/20\n",
      "\u001b[1m116/116\u001b[0m \u001b[32m━━━━━━━━━━━━━━━━━━━━\u001b[0m\u001b[37m\u001b[0m \u001b[1m25s\u001b[0m 211ms/step - accuracy: 0.8721 - loss: 0.3211 - val_accuracy: 0.8618 - val_loss: 0.3261\n",
      "Epoch 8/20\n",
      "\u001b[1m116/116\u001b[0m \u001b[32m━━━━━━━━━━━━━━━━━━━━\u001b[0m\u001b[37m\u001b[0m \u001b[1m25s\u001b[0m 211ms/step - accuracy: 0.8896 - loss: 0.2706 - val_accuracy: 0.8825 - val_loss: 0.2776\n",
      "Epoch 9/20\n",
      "\u001b[1m116/116\u001b[0m \u001b[32m━━━━━━━━━━━━━━━━━━━━\u001b[0m\u001b[37m\u001b[0m \u001b[1m25s\u001b[0m 211ms/step - accuracy: 0.8933 - loss: 0.2498 - val_accuracy: 0.8857 - val_loss: 0.2678\n",
      "Epoch 10/20\n",
      "\u001b[1m116/116\u001b[0m \u001b[32m━━━━━━━━━━━━━━━━━━━━\u001b[0m\u001b[37m\u001b[0m \u001b[1m25s\u001b[0m 210ms/step - accuracy: 0.9152 - loss: 0.2195 - val_accuracy: 0.8945 - val_loss: 0.2575\n",
      "Epoch 11/20\n",
      "\u001b[1m116/116\u001b[0m \u001b[32m━━━━━━━━━━━━━━━━━━━━\u001b[0m\u001b[37m\u001b[0m \u001b[1m25s\u001b[0m 212ms/step - accuracy: 0.9096 - loss: 0.2365 - val_accuracy: 0.9086 - val_loss: 0.2154\n",
      "Epoch 12/20\n",
      "\u001b[1m116/116\u001b[0m \u001b[32m━━━━━━━━━━━━━━━━━━━━\u001b[0m\u001b[37m\u001b[0m \u001b[1m26s\u001b[0m 214ms/step - accuracy: 0.9217 - loss: 0.1870 - val_accuracy: 0.9064 - val_loss: 0.2224\n",
      "Epoch 13/20\n",
      "\u001b[1m116/116\u001b[0m \u001b[32m━━━━━━━━━━━━━━━━━━━━\u001b[0m\u001b[37m\u001b[0m \u001b[1m32s\u001b[0m 271ms/step - accuracy: 0.8850 - loss: 0.2571 - val_accuracy: 0.8215 - val_loss: 0.3848\n",
      "Epoch 14/20\n",
      "\u001b[1m116/116\u001b[0m \u001b[32m━━━━━━━━━━━━━━━━━━━━\u001b[0m\u001b[37m\u001b[0m \u001b[1m32s\u001b[0m 266ms/step - accuracy: 0.8851 - loss: 0.2685 - val_accuracy: 0.8857 - val_loss: 0.2455\n",
      "Epoch 15/20\n",
      "\u001b[1m116/116\u001b[0m \u001b[32m━━━━━━━━━━━━━━━━━━━━\u001b[0m\u001b[37m\u001b[0m \u001b[1m28s\u001b[0m 239ms/step - accuracy: 0.9240 - loss: 0.1932 - val_accuracy: 0.9162 - val_loss: 0.1958\n",
      "Epoch 16/20\n",
      "\u001b[1m116/116\u001b[0m \u001b[32m━━━━━━━━━━━━━━━━━━━━\u001b[0m\u001b[37m\u001b[0m \u001b[1m29s\u001b[0m 238ms/step - accuracy: 0.9336 - loss: 0.1668 - val_accuracy: 0.8999 - val_loss: 0.2426\n",
      "Epoch 17/20\n",
      "\u001b[1m116/116\u001b[0m \u001b[32m━━━━━━━━━━━━━━━━━━━━\u001b[0m\u001b[37m\u001b[0m \u001b[1m28s\u001b[0m 237ms/step - accuracy: 0.9387 - loss: 0.1511 - val_accuracy: 0.9293 - val_loss: 0.1908\n",
      "Epoch 18/20\n",
      "\u001b[1m116/116\u001b[0m \u001b[32m━━━━━━━━━━━━━━━━━━━━\u001b[0m\u001b[37m\u001b[0m \u001b[1m31s\u001b[0m 255ms/step - accuracy: 0.9505 - loss: 0.1302 - val_accuracy: 0.9478 - val_loss: 0.1464\n",
      "Epoch 19/20\n",
      "\u001b[1m116/116\u001b[0m \u001b[32m━━━━━━━━━━━━━━━━━━━━\u001b[0m\u001b[37m\u001b[0m \u001b[1m31s\u001b[0m 262ms/step - accuracy: 0.9483 - loss: 0.1277 - val_accuracy: 0.9293 - val_loss: 0.1964\n",
      "Epoch 20/20\n",
      "\u001b[1m116/116\u001b[0m \u001b[32m━━━━━━━━━━━━━━━━━━━━\u001b[0m\u001b[37m\u001b[0m \u001b[1m28s\u001b[0m 235ms/step - accuracy: 0.9590 - loss: 0.1150 - val_accuracy: 0.9217 - val_loss: 0.1942\n",
      "Restoring model weights from the end of the best epoch: 18.\n"
     ]
    }
   ],
   "source": [
    "cnn_model1_nonequalized = create_basic_cnn1()\n",
    "\n",
    "early_stopping = EarlyStopping(\n",
    "    monitor='val_loss',  \n",
    "    patience=5,          \n",
    "    verbose=1             \n",
    ")\n",
    "\n",
    "history_cnn1 = cnn_model1_nonequalized.fit(x = train_data, validation_data=validation_data, epochs=20, callbacks=[early_stopping])"
   ]
  },
  {
   "cell_type": "markdown",
   "metadata": {},
   "source": [
    "### B) After Equalized"
   ]
  },
  {
   "cell_type": "code",
   "execution_count": 2,
   "metadata": {},
   "outputs": [
    {
     "name": "stderr",
     "output_type": "stream",
     "text": [
      "c:\\Users\\arda\\AppData\\Local\\Programs\\Python\\Python312\\Lib\\site-packages\\keras\\src\\layers\\convolutional\\base_conv.py:107: UserWarning: Do not pass an `input_shape`/`input_dim` argument to a layer. When using Sequential models, prefer using an `Input(shape)` object as the first layer in the model instead.\n",
      "  super().__init__(activity_regularizer=activity_regularizer, **kwargs)\n"
     ]
    },
    {
     "name": "stdout",
     "output_type": "stream",
     "text": [
      "Epoch 1/20\n"
     ]
    },
    {
     "name": "stderr",
     "output_type": "stream",
     "text": [
      "c:\\Users\\arda\\AppData\\Local\\Programs\\Python\\Python312\\Lib\\site-packages\\keras\\src\\trainers\\data_adapters\\py_dataset_adapter.py:121: UserWarning: Your `PyDataset` class should call `super().__init__(**kwargs)` in its constructor. `**kwargs` can include `workers`, `use_multiprocessing`, `max_queue_size`. Do not pass these arguments to `fit()`, as they will be ignored.\n",
      "  self._warn_if_super_not_called()\n"
     ]
    },
    {
     "name": "stdout",
     "output_type": "stream",
     "text": [
      "\u001b[1m114/114\u001b[0m \u001b[32m━━━━━━━━━━━━━━━━━━━━\u001b[0m\u001b[37m\u001b[0m \u001b[1m47s\u001b[0m 382ms/step - accuracy: 0.5777 - loss: 0.7034 - val_accuracy: 0.5481 - val_loss: 0.7133\n",
      "Epoch 2/20\n",
      "\u001b[1m114/114\u001b[0m \u001b[32m━━━━━━━━━━━━━━━━━━━━\u001b[0m\u001b[37m\u001b[0m \u001b[1m37s\u001b[0m 315ms/step - accuracy: 0.7537 - loss: 0.5084 - val_accuracy: 0.7702 - val_loss: 0.4842\n",
      "Epoch 3/20\n",
      "\u001b[1m114/114\u001b[0m \u001b[32m━━━━━━━━━━━━━━━━━━━━\u001b[0m\u001b[37m\u001b[0m \u001b[1m36s\u001b[0m 305ms/step - accuracy: 0.8116 - loss: 0.4153 - val_accuracy: 0.7989 - val_loss: 0.4805\n",
      "Epoch 4/20\n",
      "\u001b[1m114/114\u001b[0m \u001b[32m━━━━━━━━━━━━━━━━━━━━\u001b[0m\u001b[37m\u001b[0m \u001b[1m35s\u001b[0m 302ms/step - accuracy: 0.8287 - loss: 0.3975 - val_accuracy: 0.8155 - val_loss: 0.4209\n",
      "Epoch 5/20\n",
      "\u001b[1m114/114\u001b[0m \u001b[32m━━━━━━━━━━━━━━━━━━━━\u001b[0m\u001b[37m\u001b[0m \u001b[1m36s\u001b[0m 306ms/step - accuracy: 0.8413 - loss: 0.3640 - val_accuracy: 0.7989 - val_loss: 0.4369\n",
      "Epoch 6/20\n",
      "\u001b[1m114/114\u001b[0m \u001b[32m━━━━━━━━━━━━━━━━━━━━\u001b[0m\u001b[37m\u001b[0m \u001b[1m35s\u001b[0m 295ms/step - accuracy: 0.8513 - loss: 0.3316 - val_accuracy: 0.8398 - val_loss: 0.3616\n",
      "Epoch 7/20\n",
      "\u001b[1m114/114\u001b[0m \u001b[32m━━━━━━━━━━━━━━━━━━━━\u001b[0m\u001b[37m\u001b[0m \u001b[1m36s\u001b[0m 307ms/step - accuracy: 0.8577 - loss: 0.3281 - val_accuracy: 0.8376 - val_loss: 0.3782\n",
      "Epoch 8/20\n",
      "\u001b[1m114/114\u001b[0m \u001b[32m━━━━━━━━━━━━━━━━━━━━\u001b[0m\u001b[37m\u001b[0m \u001b[1m35s\u001b[0m 297ms/step - accuracy: 0.8514 - loss: 0.3303 - val_accuracy: 0.8674 - val_loss: 0.3256\n",
      "Epoch 9/20\n",
      "\u001b[1m114/114\u001b[0m \u001b[32m━━━━━━━━━━━━━━━━━━━━\u001b[0m\u001b[37m\u001b[0m \u001b[1m34s\u001b[0m 288ms/step - accuracy: 0.8900 - loss: 0.2586 - val_accuracy: 0.8619 - val_loss: 0.3050\n",
      "Epoch 10/20\n",
      "\u001b[1m114/114\u001b[0m \u001b[32m━━━━━━━━━━━━━━━━━━━━\u001b[0m\u001b[37m\u001b[0m \u001b[1m34s\u001b[0m 291ms/step - accuracy: 0.8918 - loss: 0.2531 - val_accuracy: 0.8906 - val_loss: 0.2635\n",
      "Epoch 11/20\n",
      "\u001b[1m114/114\u001b[0m \u001b[32m━━━━━━━━━━━━━━━━━━━━\u001b[0m\u001b[37m\u001b[0m \u001b[1m36s\u001b[0m 307ms/step - accuracy: 0.9108 - loss: 0.2120 - val_accuracy: 0.8873 - val_loss: 0.2651\n",
      "Epoch 12/20\n",
      "\u001b[1m114/114\u001b[0m \u001b[32m━━━━━━━━━━━━━━━━━━━━\u001b[0m\u001b[37m\u001b[0m \u001b[1m36s\u001b[0m 311ms/step - accuracy: 0.9229 - loss: 0.1974 - val_accuracy: 0.8773 - val_loss: 0.2922\n",
      "Epoch 13/20\n",
      "\u001b[1m114/114\u001b[0m \u001b[32m━━━━━━━━━━━━━━━━━━━━\u001b[0m\u001b[37m\u001b[0m \u001b[1m36s\u001b[0m 306ms/step - accuracy: 0.9137 - loss: 0.2061 - val_accuracy: 0.9061 - val_loss: 0.2139\n",
      "Epoch 14/20\n",
      "\u001b[1m114/114\u001b[0m \u001b[32m━━━━━━━━━━━━━━━━━━━━\u001b[0m\u001b[37m\u001b[0m \u001b[1m38s\u001b[0m 324ms/step - accuracy: 0.9300 - loss: 0.1742 - val_accuracy: 0.8884 - val_loss: 0.2773\n",
      "Epoch 15/20\n",
      "\u001b[1m114/114\u001b[0m \u001b[32m━━━━━━━━━━━━━━━━━━━━\u001b[0m\u001b[37m\u001b[0m \u001b[1m38s\u001b[0m 319ms/step - accuracy: 0.9187 - loss: 0.2083 - val_accuracy: 0.9160 - val_loss: 0.2051\n",
      "Epoch 16/20\n",
      "\u001b[1m114/114\u001b[0m \u001b[32m━━━━━━━━━━━━━━━━━━━━\u001b[0m\u001b[37m\u001b[0m \u001b[1m37s\u001b[0m 311ms/step - accuracy: 0.9252 - loss: 0.1758 - val_accuracy: 0.9260 - val_loss: 0.2068\n",
      "Epoch 17/20\n",
      "\u001b[1m114/114\u001b[0m \u001b[32m━━━━━━━━━━━━━━━━━━━━\u001b[0m\u001b[37m\u001b[0m \u001b[1m32s\u001b[0m 273ms/step - accuracy: 0.9430 - loss: 0.1456 - val_accuracy: 0.9304 - val_loss: 0.1696\n",
      "Epoch 18/20\n",
      "\u001b[1m114/114\u001b[0m \u001b[32m━━━━━━━━━━━━━━━━━━━━\u001b[0m\u001b[37m\u001b[0m \u001b[1m33s\u001b[0m 277ms/step - accuracy: 0.9472 - loss: 0.1330 - val_accuracy: 0.9193 - val_loss: 0.1978\n",
      "Epoch 19/20\n",
      "\u001b[1m114/114\u001b[0m \u001b[32m━━━━━━━━━━━━━━━━━━━━\u001b[0m\u001b[37m\u001b[0m \u001b[1m33s\u001b[0m 279ms/step - accuracy: 0.9538 - loss: 0.1213 - val_accuracy: 0.9370 - val_loss: 0.1611\n",
      "Epoch 20/20\n",
      "\u001b[1m114/114\u001b[0m \u001b[32m━━━━━━━━━━━━━━━━━━━━\u001b[0m\u001b[37m\u001b[0m \u001b[1m34s\u001b[0m 290ms/step - accuracy: 0.9580 - loss: 0.1182 - val_accuracy: 0.9448 - val_loss: 0.1490\n"
     ]
    },
    {
     "name": "stderr",
     "output_type": "stream",
     "text": [
      "WARNING:absl:You are saving your model as an HDF5 file via `model.save()` or `keras.saving.save_model(model)`. This file format is considered legacy. We recommend using instead the native Keras format, e.g. `model.save('my_model.keras')` or `keras.saving.save_model(model, 'my_model.keras')`. \n"
     ]
    }
   ],
   "source": [
    "cnn_model1_equalize = create_basic_cnn1()\n",
    "\n",
    "history_cnn1_equlized = cnn_model1_equalize.fit(x = train_data_equalized, validation_data=validation_data_equalized, epochs=20)\n",
    "\n",
    "cnn_model1_equalize_path = r\"C:\\Users\\arda\\Desktop\\My All Projects\\brain_tumor_classification\\models\\cnn1_equalized_model.h5\"\n",
    "cnn_model1_equalize.save(cnn_model1_equalize_path)"
   ]
  },
  {
   "cell_type": "code",
   "execution_count": 3,
   "metadata": {},
   "outputs": [],
   "source": [
    "history_path_cnn1_equalized = r\"C:\\Users\\arda\\Desktop\\My All Projects\\brain_tumor_classification\\models\\cnn1_equalized_history.json\"\n",
    "\n",
    "with open(history_path_cnn1_equalized, 'w') as file:\n",
    "    json.dump(history_cnn1_equlized.history, file)"
   ]
  },
  {
   "cell_type": "markdown",
   "metadata": {},
   "source": [
    "### 2. Second CNN"
   ]
  },
  {
   "cell_type": "markdown",
   "metadata": {},
   "source": [
    "#### A) Before Equalized"
   ]
  },
  {
   "cell_type": "code",
   "execution_count": 3,
   "metadata": {},
   "outputs": [
    {
     "name": "stderr",
     "output_type": "stream",
     "text": [
      "c:\\Users\\arda\\AppData\\Local\\Programs\\Python\\Python312\\Lib\\site-packages\\keras\\src\\layers\\convolutional\\base_conv.py:107: UserWarning: Do not pass an `input_shape`/`input_dim` argument to a layer. When using Sequential models, prefer using an `Input(shape)` object as the first layer in the model instead.\n",
      "  super().__init__(activity_regularizer=activity_regularizer, **kwargs)\n"
     ]
    },
    {
     "name": "stdout",
     "output_type": "stream",
     "text": [
      "Epoch 1/20\n"
     ]
    },
    {
     "name": "stderr",
     "output_type": "stream",
     "text": [
      "c:\\Users\\arda\\AppData\\Local\\Programs\\Python\\Python312\\Lib\\site-packages\\keras\\src\\trainers\\data_adapters\\py_dataset_adapter.py:121: UserWarning: Your `PyDataset` class should call `super().__init__(**kwargs)` in its constructor. `**kwargs` can include `workers`, `use_multiprocessing`, `max_queue_size`. Do not pass these arguments to `fit()`, as they will be ignored.\n",
      "  self._warn_if_super_not_called()\n"
     ]
    },
    {
     "name": "stdout",
     "output_type": "stream",
     "text": [
      "\u001b[1m116/116\u001b[0m \u001b[32m━━━━━━━━━━━━━━━━━━━━\u001b[0m\u001b[37m\u001b[0m \u001b[1m46s\u001b[0m 364ms/step - accuracy: 0.6536 - loss: 0.6425 - val_accuracy: 0.4995 - val_loss: 0.7341\n",
      "Epoch 2/20\n",
      "\u001b[1m116/116\u001b[0m \u001b[32m━━━━━━━━━━━━━━━━━━━━\u001b[0m\u001b[37m\u001b[0m \u001b[1m34s\u001b[0m 282ms/step - accuracy: 0.7821 - loss: 0.4600 - val_accuracy: 0.4668 - val_loss: 2.0746\n",
      "Epoch 3/20\n",
      "\u001b[1m116/116\u001b[0m \u001b[32m━━━━━━━━━━━━━━━━━━━━\u001b[0m\u001b[37m\u001b[0m \u001b[1m34s\u001b[0m 283ms/step - accuracy: 0.8272 - loss: 0.3958 - val_accuracy: 0.6714 - val_loss: 0.5604\n",
      "Epoch 4/20\n",
      "\u001b[1m116/116\u001b[0m \u001b[32m━━━━━━━━━━━━━━━━━━━━\u001b[0m\u001b[37m\u001b[0m \u001b[1m29s\u001b[0m 240ms/step - accuracy: 0.8274 - loss: 0.3741 - val_accuracy: 0.7965 - val_loss: 0.4134\n",
      "Epoch 5/20\n",
      "\u001b[1m116/116\u001b[0m \u001b[32m━━━━━━━━━━━━━━━━━━━━\u001b[0m\u001b[37m\u001b[0m \u001b[1m26s\u001b[0m 219ms/step - accuracy: 0.8514 - loss: 0.3356 - val_accuracy: 0.8509 - val_loss: 0.3806\n",
      "Epoch 6/20\n",
      "\u001b[1m116/116\u001b[0m \u001b[32m━━━━━━━━━━━━━━━━━━━━\u001b[0m\u001b[37m\u001b[0m \u001b[1m26s\u001b[0m 215ms/step - accuracy: 0.8672 - loss: 0.3108 - val_accuracy: 0.8422 - val_loss: 0.3669\n",
      "Epoch 7/20\n",
      "\u001b[1m116/116\u001b[0m \u001b[32m━━━━━━━━━━━━━━━━━━━━\u001b[0m\u001b[37m\u001b[0m \u001b[1m26s\u001b[0m 215ms/step - accuracy: 0.8800 - loss: 0.2867 - val_accuracy: 0.7563 - val_loss: 0.5657\n",
      "Epoch 8/20\n",
      "\u001b[1m116/116\u001b[0m \u001b[32m━━━━━━━━━━━━━━━━━━━━\u001b[0m\u001b[37m\u001b[0m \u001b[1m26s\u001b[0m 215ms/step - accuracy: 0.8966 - loss: 0.2475 - val_accuracy: 0.8324 - val_loss: 0.3915\n",
      "Epoch 9/20\n",
      "\u001b[1m116/116\u001b[0m \u001b[32m━━━━━━━━━━━━━━━━━━━━\u001b[0m\u001b[37m\u001b[0m \u001b[1m27s\u001b[0m 223ms/step - accuracy: 0.9038 - loss: 0.2336 - val_accuracy: 0.8400 - val_loss: 0.3662\n",
      "Epoch 10/20\n",
      "\u001b[1m116/116\u001b[0m \u001b[32m━━━━━━━━━━━━━━━━━━━━\u001b[0m\u001b[37m\u001b[0m \u001b[1m26s\u001b[0m 214ms/step - accuracy: 0.9168 - loss: 0.2070 - val_accuracy: 0.8923 - val_loss: 0.2338\n",
      "Epoch 11/20\n",
      "\u001b[1m116/116\u001b[0m \u001b[32m━━━━━━━━━━━━━━━━━━━━\u001b[0m\u001b[37m\u001b[0m \u001b[1m26s\u001b[0m 216ms/step - accuracy: 0.9124 - loss: 0.2091 - val_accuracy: 0.7856 - val_loss: 0.4824\n",
      "Epoch 12/20\n",
      "\u001b[1m116/116\u001b[0m \u001b[32m━━━━━━━━━━━━━━━━━━━━\u001b[0m\u001b[37m\u001b[0m \u001b[1m28s\u001b[0m 234ms/step - accuracy: 0.9311 - loss: 0.1778 - val_accuracy: 0.8857 - val_loss: 0.3085\n",
      "Epoch 13/20\n",
      "\u001b[1m116/116\u001b[0m \u001b[32m━━━━━━━━━━━━━━━━━━━━\u001b[0m\u001b[37m\u001b[0m \u001b[1m27s\u001b[0m 224ms/step - accuracy: 0.9219 - loss: 0.1970 - val_accuracy: 0.6572 - val_loss: 1.1149\n",
      "Epoch 14/20\n",
      "\u001b[1m116/116\u001b[0m \u001b[32m━━━━━━━━━━━━━━━━━━━━\u001b[0m\u001b[37m\u001b[0m \u001b[1m26s\u001b[0m 218ms/step - accuracy: 0.9285 - loss: 0.1781 - val_accuracy: 0.8564 - val_loss: 0.3357\n",
      "Epoch 15/20\n",
      "\u001b[1m116/116\u001b[0m \u001b[32m━━━━━━━━━━━━━━━━━━━━\u001b[0m\u001b[37m\u001b[0m \u001b[1m26s\u001b[0m 217ms/step - accuracy: 0.9375 - loss: 0.1612 - val_accuracy: 0.9010 - val_loss: 0.2296\n",
      "Epoch 16/20\n",
      "\u001b[1m116/116\u001b[0m \u001b[32m━━━━━━━━━━━━━━━━━━━━\u001b[0m\u001b[37m\u001b[0m \u001b[1m26s\u001b[0m 214ms/step - accuracy: 0.9533 - loss: 0.1310 - val_accuracy: 0.9173 - val_loss: 0.2077\n",
      "Epoch 17/20\n",
      "\u001b[1m116/116\u001b[0m \u001b[32m━━━━━━━━━━━━━━━━━━━━\u001b[0m\u001b[37m\u001b[0m \u001b[1m27s\u001b[0m 222ms/step - accuracy: 0.9411 - loss: 0.1628 - val_accuracy: 0.8923 - val_loss: 0.2574\n",
      "Epoch 18/20\n",
      "\u001b[1m116/116\u001b[0m \u001b[32m━━━━━━━━━━━━━━━━━━━━\u001b[0m\u001b[37m\u001b[0m \u001b[1m25s\u001b[0m 205ms/step - accuracy: 0.9436 - loss: 0.1501 - val_accuracy: 0.9184 - val_loss: 0.2247\n",
      "Epoch 19/20\n",
      "\u001b[1m116/116\u001b[0m \u001b[32m━━━━━━━━━━━━━━━━━━━━\u001b[0m\u001b[37m\u001b[0m \u001b[1m26s\u001b[0m 217ms/step - accuracy: 0.9456 - loss: 0.1373 - val_accuracy: 0.9510 - val_loss: 0.1336\n",
      "Epoch 20/20\n",
      "\u001b[1m116/116\u001b[0m \u001b[32m━━━━━━━━━━━━━━━━━━━━\u001b[0m\u001b[37m\u001b[0m \u001b[1m24s\u001b[0m 202ms/step - accuracy: 0.9590 - loss: 0.1210 - val_accuracy: 0.9184 - val_loss: 0.2230\n"
     ]
    }
   ],
   "source": [
    "cnn_model2_nonequalized=create_basic_cnn2()\n",
    "\n",
    "history_cnn2_nonequalized = cnn_model2_nonequalized.fit(x = train_data, validation_data=validation_data, epochs=20)"
   ]
  },
  {
   "cell_type": "markdown",
   "metadata": {},
   "source": [
    "#### B) After Equalized"
   ]
  },
  {
   "cell_type": "code",
   "execution_count": 2,
   "metadata": {},
   "outputs": [
    {
     "name": "stderr",
     "output_type": "stream",
     "text": [
      "c:\\Users\\arda\\AppData\\Local\\Programs\\Python\\Python312\\Lib\\site-packages\\keras\\src\\layers\\convolutional\\base_conv.py:107: UserWarning: Do not pass an `input_shape`/`input_dim` argument to a layer. When using Sequential models, prefer using an `Input(shape)` object as the first layer in the model instead.\n",
      "  super().__init__(activity_regularizer=activity_regularizer, **kwargs)\n"
     ]
    },
    {
     "name": "stdout",
     "output_type": "stream",
     "text": [
      "Epoch 1/20\n"
     ]
    },
    {
     "name": "stderr",
     "output_type": "stream",
     "text": [
      "c:\\Users\\arda\\AppData\\Local\\Programs\\Python\\Python312\\Lib\\site-packages\\keras\\src\\trainers\\data_adapters\\py_dataset_adapter.py:121: UserWarning: Your `PyDataset` class should call `super().__init__(**kwargs)` in its constructor. `**kwargs` can include `workers`, `use_multiprocessing`, `max_queue_size`. Do not pass these arguments to `fit()`, as they will be ignored.\n",
      "  self._warn_if_super_not_called()\n"
     ]
    },
    {
     "name": "stdout",
     "output_type": "stream",
     "text": [
      "\u001b[1m116/116\u001b[0m \u001b[32m━━━━━━━━━━━━━━━━━━━━\u001b[0m\u001b[37m\u001b[0m \u001b[1m39s\u001b[0m 309ms/step - accuracy: 0.6773 - loss: 0.6376 - val_accuracy: 0.6670 - val_loss: 0.5826\n",
      "Epoch 2/20\n",
      "\u001b[1m116/116\u001b[0m \u001b[32m━━━━━━━━━━━━━━━━━━━━\u001b[0m\u001b[37m\u001b[0m \u001b[1m29s\u001b[0m 239ms/step - accuracy: 0.7854 - loss: 0.4543 - val_accuracy: 0.7149 - val_loss: 0.5303\n",
      "Epoch 3/20\n",
      "\u001b[1m116/116\u001b[0m \u001b[32m━━━━━━━━━━━━━━━━━━━━\u001b[0m\u001b[37m\u001b[0m \u001b[1m27s\u001b[0m 230ms/step - accuracy: 0.8274 - loss: 0.3708 - val_accuracy: 0.6398 - val_loss: 0.6787\n",
      "Epoch 4/20\n",
      "\u001b[1m116/116\u001b[0m \u001b[32m━━━━━━━━━━━━━━━━━━━━\u001b[0m\u001b[37m\u001b[0m \u001b[1m31s\u001b[0m 261ms/step - accuracy: 0.8594 - loss: 0.3155 - val_accuracy: 0.8085 - val_loss: 0.4070\n",
      "Epoch 5/20\n",
      "\u001b[1m116/116\u001b[0m \u001b[32m━━━━━━━━━━━━━━━━━━━━\u001b[0m\u001b[37m\u001b[0m \u001b[1m27s\u001b[0m 229ms/step - accuracy: 0.8665 - loss: 0.3039 - val_accuracy: 0.5114 - val_loss: 1.9775\n",
      "Epoch 6/20\n",
      "\u001b[1m116/116\u001b[0m \u001b[32m━━━━━━━━━━━━━━━━━━━━\u001b[0m\u001b[37m\u001b[0m \u001b[1m27s\u001b[0m 230ms/step - accuracy: 0.8910 - loss: 0.2667 - val_accuracy: 0.8172 - val_loss: 0.3754\n",
      "Epoch 7/20\n",
      "\u001b[1m116/116\u001b[0m \u001b[32m━━━━━━━━━━━━━━━━━━━━\u001b[0m\u001b[37m\u001b[0m \u001b[1m28s\u001b[0m 236ms/step - accuracy: 0.9099 - loss: 0.2447 - val_accuracy: 0.8150 - val_loss: 0.3898\n",
      "Epoch 8/20\n",
      "\u001b[1m116/116\u001b[0m \u001b[32m━━━━━━━━━━━━━━━━━━━━\u001b[0m\u001b[37m\u001b[0m \u001b[1m28s\u001b[0m 235ms/step - accuracy: 0.9067 - loss: 0.2468 - val_accuracy: 0.5201 - val_loss: 2.0206\n",
      "Epoch 9/20\n",
      "\u001b[1m116/116\u001b[0m \u001b[32m━━━━━━━━━━━━━━━━━━━━\u001b[0m\u001b[37m\u001b[0m \u001b[1m33s\u001b[0m 276ms/step - accuracy: 0.9014 - loss: 0.2340 - val_accuracy: 0.7933 - val_loss: 0.4407\n",
      "Epoch 10/20\n",
      "\u001b[1m116/116\u001b[0m \u001b[32m━━━━━━━━━━━━━━━━━━━━\u001b[0m\u001b[37m\u001b[0m \u001b[1m31s\u001b[0m 258ms/step - accuracy: 0.9170 - loss: 0.2044 - val_accuracy: 0.8466 - val_loss: 0.3148\n",
      "Epoch 11/20\n",
      "\u001b[1m116/116\u001b[0m \u001b[32m━━━━━━━━━━━━━━━━━━━━\u001b[0m\u001b[37m\u001b[0m \u001b[1m27s\u001b[0m 226ms/step - accuracy: 0.9237 - loss: 0.1915 - val_accuracy: 0.9064 - val_loss: 0.2364\n",
      "Epoch 12/20\n",
      "\u001b[1m116/116\u001b[0m \u001b[32m━━━━━━━━━━━━━━━━━━━━\u001b[0m\u001b[37m\u001b[0m \u001b[1m31s\u001b[0m 259ms/step - accuracy: 0.9328 - loss: 0.1667 - val_accuracy: 0.9314 - val_loss: 0.1818\n",
      "Epoch 13/20\n",
      "\u001b[1m116/116\u001b[0m \u001b[32m━━━━━━━━━━━━━━━━━━━━\u001b[0m\u001b[37m\u001b[0m \u001b[1m32s\u001b[0m 274ms/step - accuracy: 0.9338 - loss: 0.1730 - val_accuracy: 0.8607 - val_loss: 0.3025\n",
      "Epoch 14/20\n",
      "\u001b[1m116/116\u001b[0m \u001b[32m━━━━━━━━━━━━━━━━━━━━\u001b[0m\u001b[37m\u001b[0m \u001b[1m33s\u001b[0m 274ms/step - accuracy: 0.9408 - loss: 0.1572 - val_accuracy: 0.9293 - val_loss: 0.1817\n",
      "Epoch 15/20\n",
      "\u001b[1m116/116\u001b[0m \u001b[32m━━━━━━━━━━━━━━━━━━━━\u001b[0m\u001b[37m\u001b[0m \u001b[1m31s\u001b[0m 261ms/step - accuracy: 0.9524 - loss: 0.1369 - val_accuracy: 0.8738 - val_loss: 0.2788\n",
      "Epoch 16/20\n",
      "\u001b[1m116/116\u001b[0m \u001b[32m━━━━━━━━━━━━━━━━━━━━\u001b[0m\u001b[37m\u001b[0m \u001b[1m27s\u001b[0m 228ms/step - accuracy: 0.9432 - loss: 0.1623 - val_accuracy: 0.9206 - val_loss: 0.1987\n",
      "Epoch 17/20\n",
      "\u001b[1m116/116\u001b[0m \u001b[32m━━━━━━━━━━━━━━━━━━━━\u001b[0m\u001b[37m\u001b[0m \u001b[1m27s\u001b[0m 225ms/step - accuracy: 0.9514 - loss: 0.1317 - val_accuracy: 0.9554 - val_loss: 0.1210\n",
      "Epoch 18/20\n",
      "\u001b[1m116/116\u001b[0m \u001b[32m━━━━━━━━━━━━━━━━━━━━\u001b[0m\u001b[37m\u001b[0m \u001b[1m28s\u001b[0m 238ms/step - accuracy: 0.9488 - loss: 0.1289 - val_accuracy: 0.9293 - val_loss: 0.1604\n",
      "Epoch 19/20\n",
      "\u001b[1m116/116\u001b[0m \u001b[32m━━━━━━━━━━━━━━━━━━━━\u001b[0m\u001b[37m\u001b[0m \u001b[1m33s\u001b[0m 275ms/step - accuracy: 0.9548 - loss: 0.1171 - val_accuracy: 0.9391 - val_loss: 0.1649\n",
      "Epoch 20/20\n",
      "\u001b[1m116/116\u001b[0m \u001b[32m━━━━━━━━━━━━━━━━━━━━\u001b[0m\u001b[37m\u001b[0m \u001b[1m33s\u001b[0m 279ms/step - accuracy: 0.9429 - loss: 0.1344 - val_accuracy: 0.9304 - val_loss: 0.1739\n"
     ]
    },
    {
     "name": "stderr",
     "output_type": "stream",
     "text": [
      "WARNING:absl:You are saving your model as an HDF5 file via `model.save()` or `keras.saving.save_model(model)`. This file format is considered legacy. We recommend using instead the native Keras format, e.g. `model.save('my_model.keras')` or `keras.saving.save_model(model, 'my_model.keras')`. \n"
     ]
    }
   ],
   "source": [
    "cnn_model2_equalized=create_basic_cnn2()\n",
    "\n",
    "history_cnn2_equalized = cnn_model2_equalized.fit(x = train_data_equalized, validation_data=validation_data_equalized, epochs=20)\n",
    "\n",
    "cnn_model2_equalize_path = r\"C:\\Users\\arda\\Desktop\\My All Projects\\brain_tumor_classification\\models\\cnn2_model1.h5\"\n",
    "cnn_model2_equalized.save(cnn_model2_equalize_path)"
   ]
  },
  {
   "cell_type": "code",
   "execution_count": 3,
   "metadata": {},
   "outputs": [],
   "source": [
    "history_path_cnn2_equalized = r\"C:\\Users\\arda\\Desktop\\My All Projects\\brain_tumor_classification\\models\\cnn2_equalized_history1.json\"\n",
    "\n",
    "with open(history_path_cnn2_equalized, 'w') as file:\n",
    "    json.dump(history_cnn2_equalized.history, file)"
   ]
  },
  {
   "cell_type": "markdown",
   "metadata": {},
   "source": [
    "### According to the training results, models trained with images processed with the histogram equalization method produced better results by a difference of 2,3 percent."
   ]
  }
 ],
 "metadata": {
  "kernelspec": {
   "display_name": "Python 3",
   "language": "python",
   "name": "python3"
  },
  "language_info": {
   "codemirror_mode": {
    "name": "ipython",
    "version": 3
   },
   "file_extension": ".py",
   "mimetype": "text/x-python",
   "name": "python",
   "nbconvert_exporter": "python",
   "pygments_lexer": "ipython3",
   "version": "3.12.4"
  }
 },
 "nbformat": 4,
 "nbformat_minor": 2
}
